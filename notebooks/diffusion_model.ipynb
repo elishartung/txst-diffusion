{
 "cells": [
  {
   "cell_type": "markdown",
   "id": "a49f34c5-21c9-41e0-ad79-a01810ad506f",
   "metadata": {},
   "source": [
    "# A 1D Diffusion model"
   ]
  },
  {
   "cell_type": "markdown",
   "id": "9dd66464-1788-4468-89a3-c52577f25223",
   "metadata": {},
   "source": [
    "Here we develop a one-dimensional model of dissuion. \n",
    "It assumes constatn diffusivity. \n",
    "It uses a regular grid.\n",
    "It has fixed boundary conditions."
   ]
  },
  {
   "cell_type": "markdown",
   "id": "7c0d5449-666e-4b77-9d1d-ed1bd63c940d",
   "metadata": {},
   "source": [
    "The diffusion equation:\n",
    "\n",
    "$$ \\frac{\\partial C}{\\partial t} = D\\frac{\\partial^2 C}{\\partial x^2} $$\n",
    "\n",
    "The discretized version of the diffusion equation that we'll solve with our model:\n",
    "\n",
    "$$ C^{t+1}_x = C^t_x + {D \\Delta t \\over \\Delta x^2} (C^t_{x+1} - 2C^t_x + C^t_{x-1}) $$\n",
    "\n",
    "This is the explicit FTCS scheme as described in Slingerland and Kump (2011). (Or see Wikipedia.)\n"
   ]
  },
  {
   "cell_type": "markdown",
   "id": "32cc23f0-2719-44ce-80d6-b2947e8971ed",
   "metadata": {},
   "source": [
    "WE will usd two libraries. Numpy (for arrays) and Matplotlib (for plotting) that aren't a part of the base Python distrubtion."
   ]
  },
  {
   "cell_type": "code",
   "execution_count": null,
   "id": "d06f139f-29a3-441e-a6ca-08058157a89b",
   "metadata": {},
   "outputs": [],
   "source": [
    "import numpy as np\n",
    "import matplotlib.pyplot as plt"
   ]
  },
  {
   "cell_type": "markdown",
   "id": "a9e37fdb-5711-4de9-91c4-8b310e907981",
   "metadata": {},
   "source": [
    "Set two fixed modl parameters, the diffusivity and the size of the model domain"
   ]
  },
  {
   "cell_type": "code",
   "execution_count": null,
   "id": "4e13d0ea-aa3e-421e-9383-acba4c20bb7a",
   "metadata": {},
   "outputs": [],
   "source": [
    "D = 100 \n",
    "Lx = 300"
   ]
  },
  {
   "cell_type": "markdown",
   "id": "58257b30-6954-4687-ac21-e095931c6124",
   "metadata": {},
   "source": [
    "Next, set up the model grid using numpy array"
   ]
  },
  {
   "cell_type": "code",
   "execution_count": null,
   "id": "7a060640-aeac-4c8e-b946-c9445cfa9565",
   "metadata": {},
   "outputs": [],
   "source": [
    "dx=0.5\n",
    "x= np.arange(start=0,stop=Lx,step=dx)\n",
    "nx=len(x)"
   ]
  },
  {
   "cell_type": "code",
   "execution_count": null,
   "id": "1bce5675-8e21-4710-b4eb-5d68b4dce7ad",
   "metadata": {},
   "outputs": [],
   "source": [
    "whos"
   ]
  },
  {
   "cell_type": "markdown",
   "id": "4df828fc-8419-452a-9811-c1f39bb88279",
   "metadata": {},
   "source": [
    "Set the initial concentration profile for the model. The concentration `C` is a step function with a high value on the left a low vaalue on the right.. and the step at the center of the domain"
   ]
  },
  {
   "cell_type": "code",
   "execution_count": null,
   "id": "9fae396a-ba1d-4dc0-a142-403a30df2044",
   "metadata": {},
   "outputs": [],
   "source": [
    "C = np.zeros_like(x)\n",
    "C_left = 500\n",
    "C_right= 0 \n",
    "C[x<= Lx//2] = C_left\n",
    "C[x > Lx//2] = C_right"
   ]
  },
  {
   "cell_type": "markdown",
   "id": "3c4c07df-6c7d-40cb-9d0f-9f402f95abce",
   "metadata": {},
   "source": [
    "PLot the initial profile"
   ]
  },
  {
   "cell_type": "code",
   "execution_count": null,
   "id": "2e330170-3533-41fb-b158-cfa9c6594054",
   "metadata": {},
   "outputs": [],
   "source": [
    "plt.figure()\n",
    "plt.plot(x,C,\"r\")\n",
    "plt.xlabel(\"X\")\n",
    "plt.ylabel(\"C\")\n",
    "plt.title(\"Initial concentration profile\")"
   ]
  },
  {
   "cell_type": "markdown",
   "id": "246a06d4-7528-4dba-b3f2-04b4f4123342",
   "metadata": {},
   "source": [
    "Set the time of the model and the number of the steps. Calculate a stable time step for the model using a stability criteria. "
   ]
  },
  {
   "cell_type": "code",
   "execution_count": null,
   "id": "f1f5ca58-075b-4db7-a60e-213304d1a4c9",
   "metadata": {},
   "outputs": [],
   "source": [
    "time = 0\n",
    "nt = 5000\n",
    "dt =  0.5 * dx**2 / D"
   ]
  },
  {
   "cell_type": "code",
   "execution_count": null,
   "id": "be788f80-bef2-44f3-af01-f9a2aa7503b9",
   "metadata": {},
   "outputs": [],
   "source": [
    "dt"
   ]
  },
  {
   "cell_type": "markdown",
   "id": "ada63870-1a62-4fef-a443-c13e92ece78a",
   "metadata": {},
   "source": [
    "loop over the time steeps of the model, solving the diffusion equation  using the  FTCS explicit scheme described above. the boundary conditions are fixed so reset them at each time step."
   ]
  },
  {
   "cell_type": "code",
   "execution_count": null,
   "id": "9a5fce0e-73ae-4e99-bea0-0bdea576505e",
   "metadata": {},
   "outputs": [],
   "source": [
    "for t in range(0, nt):\n",
    "    C+= D * dt / dx**2 * (np.roll(C, -1) - 2*C + np.roll(C,1))\n",
    "    C[0] = C_left\n",
    "    C[-1] = C_right\n",
    "                      "
   ]
  },
  {
   "cell_type": "code",
   "execution_count": null,
   "id": "3482745b-c08a-43db-a26e-35a42b0fee4f",
   "metadata": {},
   "outputs": [],
   "source": [
    "plt.figure()\n",
    "plt.plot(x,C,\"b\")\n",
    "plt.xlabel(\"x\")\n",
    "plt.ylabel(\"C\")\n",
    "plt.title(\"Final Concentration Profile\")"
   ]
  },
  {
   "cell_type": "code",
   "execution_count": null,
   "id": "14b90f0d-b54b-48fb-a4a0-fd0265ad1125",
   "metadata": {},
   "outputs": [],
   "source": [
    "z =np.arange(5)"
   ]
  },
  {
   "cell_type": "code",
   "execution_count": null,
   "id": "5f0ea640-69e9-4fa3-b344-c86f383b91b6",
   "metadata": {},
   "outputs": [],
   "source": [
    "z"
   ]
  },
  {
   "cell_type": "code",
   "execution_count": null,
   "id": "aedbfe9b-8cc0-4c8c-bc47-eb930d470c86",
   "metadata": {},
   "outputs": [],
   "source": [
    "np.roll(z, -1)"
   ]
  },
  {
   "cell_type": "code",
   "execution_count": null,
   "id": "43437c1c-d417-448d-b4d7-d53cca6f9304",
   "metadata": {},
   "outputs": [],
   "source": [
    "np.roll(z,1)"
   ]
  },
  {
   "cell_type": "code",
   "execution_count": null,
   "id": "95d35f38-602b-4da9-92f1-7aedfeeb8787",
   "metadata": {},
   "outputs": [],
   "source": []
  }
 ],
 "metadata": {
  "kernelspec": {
   "display_name": "CSDMS",
   "language": "python",
   "name": "csdms"
  },
  "language_info": {
   "codemirror_mode": {
    "name": "ipython",
    "version": 3
   },
   "file_extension": ".py",
   "mimetype": "text/x-python",
   "name": "python",
   "nbconvert_exporter": "python",
   "pygments_lexer": "ipython3",
   "version": "3.12.7"
  }
 },
 "nbformat": 4,
 "nbformat_minor": 5
}
